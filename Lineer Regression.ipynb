{
 "cells": [
  {
   "cell_type": "markdown",
   "metadata": {},
   "source": [
    "# Installs and Imports"
   ]
  },
  {
   "cell_type": "code",
   "execution_count": null,
   "metadata": {
    "colab": {
     "base_uri": "https://localhost:8080/"
    },
    "id": "_Y3isB34SGty",
    "outputId": "9e818e4e-6a10-44e2-f9f0-3dc43cd9b243"
   },
   "outputs": [
    {
     "name": "stdout",
     "output_type": "stream",
     "text": [
      "Requirement already satisfied: beautifulsoup4 in /usr/local/lib/python3.7/dist-packages (4.6.3)\n",
      "install: missing destination file operand after 'requests'\n",
      "Try 'install --help' for more information.\n",
      "Requirement already satisfied: lxml in /usr/local/lib/python3.7/dist-packages (4.2.6)\n"
     ]
    }
   ],
   "source": [
    "!pip install beautifulsoup4\n",
    "!pip install requests\n",
    "!pip install lxml"
   ]
  },
  {
   "cell_type": "code",
   "execution_count": 2,
   "metadata": {
    "id": "65D9orkDSRii"
   },
   "outputs": [],
   "source": [
    "from bs4 import BeautifulSoup as bts\n",
    "import lxml\n",
    "import pandas as pd\n",
    "import requests"
   ]
  },
  {
   "cell_type": "markdown",
   "metadata": {},
   "source": [
    "# Defining Helper Functions"
   ]
  },
  {
   "cell_type": "code",
   "execution_count": 224,
   "metadata": {
    "id": "ATwcmhUrSWY6"
   },
   "outputs": [],
   "source": [
    "def get_and_parse_URL(url):\n",
    "  html_text = requests.get(url, headers = {'User-Agent':'Mozilla/5.0'})\n",
    "  soup = bts(html_text.text, 'lxml')\n",
    "  return soup\n",
    "\n",
    "def mix_same_columns(dataframe,column1,column2):\n",
    "  for i in range(len(dataframe[column1])):\n",
    "    if str(dataframe[column1].iloc[i]) == 'nan' and str(dataframe[column2].iloc[i]) != 'nan':\n",
    "      dataframe[column1].iloc[i] = dataframe[column2].iloc[i]\n",
    "    elif str(dataframe[column1].iloc[i]) != 'nan' and str(dataframe[column2].iloc[i]) == 'nan':\n",
    "      dataframe[column1].iloc[i] = dataframe[column1].iloc[i]\n",
    "  dataframe.drop(column2, inplace=True, axis=1)\n",
    "\n",
    "def drop_columns(dataframe,list_of_columns):\n",
    "  for column in list_of_columns:\n",
    "    dataframe.drop(column, inplace=True, axis=1)\n",
    "\n",
    "def zero_or_one(dataframe, column_name, value_for_one):\n",
    "  for i in range(len(dataframe[column_name])):\n",
    "    if  dataframe[column_name].iloc[i] == value_for_one:\n",
    "      dataframe[column_name].iloc[i] = 1\n",
    "    else:\n",
    "      dataframe[column_name].iloc[i] = 0\n",
    "\n",
    "def unique_values_for_columns(dataframe):\n",
    "  list_of_column = ['Dahili Hafıza',\n",
    "        'Ekran Çözünürlüğü', 'Ekran Cinsi', 'Ekran Boyutu Aralığı',\n",
    "        'Arka Kamera Sayısı', 'Ön Kamera Çözünürlük Aralığı', 'Ön Kamera Flaş',\n",
    "        'Renk', 'RAM Kapasitesi', 'Batarya Kapasitesi Aralığı',\n",
    "        'Şarj Girişi', 'Kablosuz Şarj',\n",
    "        'NFC', 'Parmak İzi Okuyucu', 'Yüz Tanıma', 'Çift Hat',\n",
    "        'Ana Kamera Çözünürlül Aralığı' ]\n",
    "  for column in list_of_column:\n",
    "    print(column)\n",
    "    print(dataframe[column].unique())\n",
    "    \n",
    "def sum_of_all_nulls(dataframe):\n",
    "    columns = list(dataframe.columns)\n",
    "    sum_of_nulls = 0\n",
    "    for column in columns:\n",
    "        sum_of_nulls += dataframe[column].isnull().sum()\n",
    "    print('Sum of null values: '+str(sum_of_nulls))\n",
    "    \n",
    "def nulls_with_columns(dataframe):\n",
    "    num = 0\n",
    "    for column in list(dataframe.columns):\n",
    "        if dataframe[column].isnull().any():\n",
    "            print(column+': '+str(dataframe[column].isnull().sum()))\n",
    "            num += 1\n",
    "    if num != 0:\n",
    "        sum_of_all_nulls(dataframe)\n",
    "    else:\n",
    "        print('There is no column with a null value.')\n",
    "        \n",
    "def columns_with_meaningless_value(dataframe):\n",
    "    meaningless_value = ['Yok', 'Diğer']\n",
    "    for column in list(dataframe.columns):\n",
    "        if dataframe[column].isin(meaningless_value).any():\n",
    "            if (dataframe[column].str.contains(meaningless_value[0])).any():\n",
    "                print(column+': '+str(dataframe[column].isin(meaningless_value).sum())+f\" rows and meaningless value is '{meaningless_value[0]}'.\")\n",
    "            else:\n",
    "                print(column+': '+str(dataframe[column].isin(meaningless_value).sum())+f\" rows and meaningless value is '{meaningless_value[1]}'.\")\n",
    "        \n",
    "def manually_entering_meaningless_value(dataframe,column,meaningless_value,list_of_meaningful_value):\n",
    "    for num,index in enumerate(dataframe[dataframe[column] == meaningless_value].index):\n",
    "        dataframe[column].iloc[index] = list_of_meaningful_value[num]"
   ]
  },
  {
   "cell_type": "markdown",
   "metadata": {},
   "source": [
    "# Web Scraping"
   ]
  },
  {
   "cell_type": "markdown",
   "metadata": {},
   "source": [
    "***Step 1: Creating a list of total product URLs.***"
   ]
  },
  {
   "cell_type": "code",
   "execution_count": null,
   "metadata": {
    "id": "N1ZOIAEmSbuP"
   },
   "outputs": [],
   "source": [
    "home_page_path = 'https://www.trendyol.com/sr?wb=794%2C101939%2C103505%2C109251%2C103503%2C109298%2C108166%2C142700%2C791%2C103502%2C145557%2C110936%2C108893%2C110476%2C110929%2C102323%2C103501%2C103504&wc=109460&attr=28%7C256&pi='\n",
    "page_path_list = []\n",
    "for i in range(1,32):\n",
    "  page_path_list.append(home_page_path+str(i))"
   ]
  },
  {
   "cell_type": "code",
   "execution_count": null,
   "metadata": {
    "id": "C_3UIt0raboB"
   },
   "outputs": [],
   "source": [
    "product_path_list = []\n",
    "\n",
    "for path in page_path_list:\n",
    "  page = get_and_parse_URL(path)\n",
    "  for div in page.find_all('div',{'class':'p-card-wrppr'}):\n",
    "    product_path_list.append(div.a['href'])"
   ]
  },
  {
   "cell_type": "markdown",
   "metadata": {},
   "source": [
    "***Step 2: Creating an empty dataframe with columns of headers.***"
   ]
  },
  {
   "cell_type": "code",
   "execution_count": null,
   "metadata": {
    "id": "7JRru4XaieZq"
   },
   "outputs": [],
   "source": [
    "columns = ['Brand Name','Price']\n",
    "product = get_and_parse_URL('https://www.trendyol.com'+ product_path_list[0])\n",
    "for li in product.find_all('li', {'class':'detail-attr-item'}):\n",
    "  columns.append(li.find('span').text.strip())"
   ]
  },
  {
   "cell_type": "code",
   "execution_count": null,
   "metadata": {
    "id": "rcEl_Xh1mH4C"
   },
   "outputs": [],
   "source": [
    "df_of_products = pd.DataFrame(columns=columns)"
   ]
  },
  {
   "cell_type": "markdown",
   "metadata": {},
   "source": [
    "***Step 3: Pull data on a per product basis and add it to the dataframe.***"
   ]
  },
  {
   "cell_type": "code",
   "execution_count": null,
   "metadata": {
    "id": "kHs_1bmvcugw"
   },
   "outputs": [],
   "source": [
    "for product_path in product_path_list:\n",
    "  headers = ['Brand Name','Price','Product Name']\n",
    "  values = []\n",
    "  product = get_and_parse_URL('https://www.trendyol.com'+ product_path)\n",
    "\n",
    "  brand_name = product.find('h1',{'class':'pr-new-br'}).a\n",
    "  if brand_name != None:\n",
    "    values.append(brand_name.text.strip())\n",
    "  else:\n",
    "    values.append(None)\n",
    "  price = product.find('span',{'class':\"prc-slg prc-slg-w-dsc\"})\n",
    "  if price != None:\n",
    "    values.append(price.text.strip())\n",
    "  else:\n",
    "    price = product.find('span',{'class':\"prc-slg\"})\n",
    "    values.append(price.text.strip())\n",
    "  product_name = product.find('h1',{'class':'pr-new-br'}).span.text.strip()\n",
    "  values.append(product_name)\n",
    "\n",
    "  for li in product.find_all('li', {'class':'detail-attr-item'}):\n",
    "    headers.append(li.find('span').text.strip())\n",
    "    values.append(li.b.text.strip())\n",
    "  data_series = pd.Series(values, index = headers)\n",
    "  df_of_products = df_of_products.append(data_series, ignore_index=True)"
   ]
  },
  {
   "cell_type": "markdown",
   "metadata": {},
   "source": [
    "***Step 4: Saving the dataframe as a csv file.***"
   ]
  },
  {
   "cell_type": "code",
   "execution_count": 21,
   "metadata": {
    "id": "Mn1Bwy3NybcT"
   },
   "outputs": [],
   "source": [
    "df_of_products.to_csv('trendyol_data.csv', index = False)"
   ]
  },
  {
   "cell_type": "markdown",
   "metadata": {
    "id": "e4lHUWC2zBMj"
   },
   "source": [
    "# Data Cleaning"
   ]
  },
  {
   "cell_type": "code",
   "execution_count": 3,
   "metadata": {
    "id": "BEM4ZHq7zS5Z"
   },
   "outputs": [],
   "source": [
    "df = pd.read_csv('trendyol_data.csv')"
   ]
  },
  {
   "cell_type": "code",
   "execution_count": 4,
   "metadata": {},
   "outputs": [
    {
     "data": {
      "text/html": [
       "<div>\n",
       "<style scoped>\n",
       "    .dataframe tbody tr th:only-of-type {\n",
       "        vertical-align: middle;\n",
       "    }\n",
       "\n",
       "    .dataframe tbody tr th {\n",
       "        vertical-align: top;\n",
       "    }\n",
       "\n",
       "    .dataframe thead th {\n",
       "        text-align: right;\n",
       "    }\n",
       "</style>\n",
       "<table border=\"1\" class=\"dataframe\">\n",
       "  <thead>\n",
       "    <tr style=\"text-align: right;\">\n",
       "      <th></th>\n",
       "      <th>Unnamed: 0</th>\n",
       "      <th>Brand Name</th>\n",
       "      <th>Price</th>\n",
       "      <th>Dahili Hafıza</th>\n",
       "      <th>İşlemci Markası</th>\n",
       "      <th>Garanti Tipi</th>\n",
       "      <th>Bağlantılar</th>\n",
       "      <th>Pil Gücü (mAh)</th>\n",
       "      <th>Ekran Boyutu</th>\n",
       "      <th>Kamera Çözünürlüğü</th>\n",
       "      <th>...</th>\n",
       "      <th>Yüz Tanıma</th>\n",
       "      <th>Görüntülü Konuşma</th>\n",
       "      <th>Suya/Toza Dayanıklılık</th>\n",
       "      <th>Çift Hat</th>\n",
       "      <th>Ekran Yenileme Hızı</th>\n",
       "      <th>Video Kayıt Çözünürlüğü</th>\n",
       "      <th>Ana Kamera Çözünürlül Aralığı</th>\n",
       "      <th>Arttırılabilir Hafıza (Hafıza Kartı Desteği)</th>\n",
       "      <th>Product Name</th>\n",
       "      <th>Cep Telefonu Modeli</th>\n",
       "    </tr>\n",
       "  </thead>\n",
       "  <tbody>\n",
       "    <tr>\n",
       "      <th>0</th>\n",
       "      <td>0</td>\n",
       "      <td>Samsung</td>\n",
       "      <td>4.905 TL</td>\n",
       "      <td>128 GB</td>\n",
       "      <td>Diğer</td>\n",
       "      <td>Samsung TR Garantili</td>\n",
       "      <td>Wi-Fi</td>\n",
       "      <td>4000 - 5000</td>\n",
       "      <td>6 inç ve üstü</td>\n",
       "      <td>20 MP ve üstü</td>\n",
       "      <td>...</td>\n",
       "      <td>Var</td>\n",
       "      <td>Var</td>\n",
       "      <td>Var</td>\n",
       "      <td>Var</td>\n",
       "      <td>90 Hz</td>\n",
       "      <td>2160p (Ultra HD) 4K</td>\n",
       "      <td>60 - 80 MP</td>\n",
       "      <td>Var</td>\n",
       "      <td>Galaxy A52 128GB Siyah Cep Telefonu (Samsung T...</td>\n",
       "      <td>NaN</td>\n",
       "    </tr>\n",
       "    <tr>\n",
       "      <th>1</th>\n",
       "      <td>1</td>\n",
       "      <td>Xiaomi</td>\n",
       "      <td>4.019 TL</td>\n",
       "      <td>128 GB</td>\n",
       "      <td>NaN</td>\n",
       "      <td>Xiaomi Türkiye Garantili</td>\n",
       "      <td>NaN</td>\n",
       "      <td>NaN</td>\n",
       "      <td>NaN</td>\n",
       "      <td>NaN</td>\n",
       "      <td>...</td>\n",
       "      <td>Var</td>\n",
       "      <td>NaN</td>\n",
       "      <td>Var</td>\n",
       "      <td>Var</td>\n",
       "      <td>NaN</td>\n",
       "      <td>NaN</td>\n",
       "      <td>60 - 80 MP</td>\n",
       "      <td>Var</td>\n",
       "      <td>Redmi Note 10S 6GB + 128GB Siyah Cep Telefonu ...</td>\n",
       "      <td>NaN</td>\n",
       "    </tr>\n",
       "    <tr>\n",
       "      <th>2</th>\n",
       "      <td>2</td>\n",
       "      <td>POCO</td>\n",
       "      <td>5.199 TL</td>\n",
       "      <td>256 GB</td>\n",
       "      <td>Qualcomm</td>\n",
       "      <td>Xiaomi Türkiye Garantili</td>\n",
       "      <td>Wi-Fi</td>\n",
       "      <td>3000 - 7900</td>\n",
       "      <td>6 inç ve üstü</td>\n",
       "      <td>20 MP ve üstü</td>\n",
       "      <td>...</td>\n",
       "      <td>Var</td>\n",
       "      <td>Var</td>\n",
       "      <td>Var</td>\n",
       "      <td>Yok</td>\n",
       "      <td>120 Hz</td>\n",
       "      <td>2160p (Ultra HD) 4K</td>\n",
       "      <td>40 - 60 MP</td>\n",
       "      <td>Var</td>\n",
       "      <td>X3 Pro 8GB + 256GB Siyah Cep Telefonu (Xiaomi ...</td>\n",
       "      <td>NaN</td>\n",
       "    </tr>\n",
       "    <tr>\n",
       "      <th>3</th>\n",
       "      <td>3</td>\n",
       "      <td>Samsung</td>\n",
       "      <td>2.799 TL</td>\n",
       "      <td>64 GB</td>\n",
       "      <td>Samsung</td>\n",
       "      <td>Resmi Distribütör Garantili</td>\n",
       "      <td>Wi-Fi</td>\n",
       "      <td>4000 - 5000</td>\n",
       "      <td>6 inç ve üstü</td>\n",
       "      <td>20 MP ve üstü</td>\n",
       "      <td>...</td>\n",
       "      <td>Var</td>\n",
       "      <td>Var</td>\n",
       "      <td>Var</td>\n",
       "      <td>Var</td>\n",
       "      <td>90 Hz</td>\n",
       "      <td>1080p (Full HD)</td>\n",
       "      <td>40 - 60 MP</td>\n",
       "      <td>Var</td>\n",
       "      <td>Galaxy M12 64GB Mavi Cep Telefonu (Samsung Tür...</td>\n",
       "      <td>NaN</td>\n",
       "    </tr>\n",
       "    <tr>\n",
       "      <th>4</th>\n",
       "      <td>4</td>\n",
       "      <td>Oppo</td>\n",
       "      <td>2.978 TL</td>\n",
       "      <td>128 GB</td>\n",
       "      <td>NaN</td>\n",
       "      <td>Resmi Distribütör Garantili</td>\n",
       "      <td>Wi-Fi</td>\n",
       "      <td>4000 - 5000</td>\n",
       "      <td>6 inç ve üstü</td>\n",
       "      <td>10 - 15 MP</td>\n",
       "      <td>...</td>\n",
       "      <td>Var</td>\n",
       "      <td>Var</td>\n",
       "      <td>Var</td>\n",
       "      <td>Yok</td>\n",
       "      <td>60 Hz</td>\n",
       "      <td>1080p (Full HD)</td>\n",
       "      <td>10 - 15 MP</td>\n",
       "      <td>Var</td>\n",
       "      <td>A54 128GB Siyah Cep Telefonu (Oppo Türkiye Gar...</td>\n",
       "      <td>NaN</td>\n",
       "    </tr>\n",
       "  </tbody>\n",
       "</table>\n",
       "<p>5 rows × 48 columns</p>\n",
       "</div>"
      ],
      "text/plain": [
       "   Unnamed: 0 Brand Name     Price Dahili Hafıza İşlemci Markası  \\\n",
       "0           0    Samsung  4.905 TL        128 GB           Diğer   \n",
       "1           1     Xiaomi  4.019 TL        128 GB             NaN   \n",
       "2           2       POCO  5.199 TL        256 GB        Qualcomm   \n",
       "3           3    Samsung  2.799 TL         64 GB         Samsung   \n",
       "4           4       Oppo  2.978 TL        128 GB             NaN   \n",
       "\n",
       "                  Garanti Tipi Bağlantılar Pil Gücü (mAh)   Ekran Boyutu  \\\n",
       "0         Samsung TR Garantili       Wi-Fi    4000 - 5000  6 inç ve üstü   \n",
       "1     Xiaomi Türkiye Garantili         NaN            NaN            NaN   \n",
       "2     Xiaomi Türkiye Garantili       Wi-Fi    3000 - 7900  6 inç ve üstü   \n",
       "3  Resmi Distribütör Garantili       Wi-Fi    4000 - 5000  6 inç ve üstü   \n",
       "4  Resmi Distribütör Garantili       Wi-Fi    4000 - 5000  6 inç ve üstü   \n",
       "\n",
       "  Kamera Çözünürlüğü  ... Yüz Tanıma Görüntülü Konuşma Suya/Toza Dayanıklılık  \\\n",
       "0      20 MP ve üstü  ...        Var               Var                    Var   \n",
       "1                NaN  ...        Var               NaN                    Var   \n",
       "2      20 MP ve üstü  ...        Var               Var                    Var   \n",
       "3      20 MP ve üstü  ...        Var               Var                    Var   \n",
       "4         10 - 15 MP  ...        Var               Var                    Var   \n",
       "\n",
       "  Çift Hat Ekran Yenileme Hızı Video Kayıt Çözünürlüğü  \\\n",
       "0      Var               90 Hz     2160p (Ultra HD) 4K   \n",
       "1      Var                 NaN                     NaN   \n",
       "2      Yok              120 Hz     2160p (Ultra HD) 4K   \n",
       "3      Var               90 Hz         1080p (Full HD)   \n",
       "4      Yok               60 Hz         1080p (Full HD)   \n",
       "\n",
       "  Ana Kamera Çözünürlül Aralığı Arttırılabilir Hafıza (Hafıza Kartı Desteği)  \\\n",
       "0                    60 - 80 MP                                          Var   \n",
       "1                    60 - 80 MP                                          Var   \n",
       "2                    40 - 60 MP                                          Var   \n",
       "3                    40 - 60 MP                                          Var   \n",
       "4                    10 - 15 MP                                          Var   \n",
       "\n",
       "                                        Product Name Cep Telefonu Modeli  \n",
       "0  Galaxy A52 128GB Siyah Cep Telefonu (Samsung T...                 NaN  \n",
       "1  Redmi Note 10S 6GB + 128GB Siyah Cep Telefonu ...                 NaN  \n",
       "2  X3 Pro 8GB + 256GB Siyah Cep Telefonu (Xiaomi ...                 NaN  \n",
       "3  Galaxy M12 64GB Mavi Cep Telefonu (Samsung Tür...                 NaN  \n",
       "4  A54 128GB Siyah Cep Telefonu (Oppo Türkiye Gar...                 NaN  \n",
       "\n",
       "[5 rows x 48 columns]"
      ]
     },
     "execution_count": 4,
     "metadata": {},
     "output_type": "execute_result"
    }
   ],
   "source": [
    "df.head()"
   ]
  },
  {
   "cell_type": "code",
   "execution_count": 260,
   "metadata": {},
   "outputs": [
    {
     "name": "stdout",
     "output_type": "stream",
     "text": [
      "<class 'pandas.core.frame.DataFrame'>\n",
      "RangeIndex: 731 entries, 0 to 730\n",
      "Data columns (total 48 columns):\n",
      " #   Column                                        Non-Null Count  Dtype \n",
      "---  ------                                        --------------  ----- \n",
      " 0   Unnamed: 0                                    731 non-null    int64 \n",
      " 1   Brand Name                                    731 non-null    object\n",
      " 2   Price                                         731 non-null    object\n",
      " 3   Dahili Hafıza                                 726 non-null    object\n",
      " 4   İşlemci Markası                               508 non-null    object\n",
      " 5   Garanti Tipi                                  731 non-null    object\n",
      " 6   Bağlantılar                                   405 non-null    object\n",
      " 7   Pil Gücü (mAh)                                527 non-null    object\n",
      " 8   Ekran Boyutu                                  515 non-null    object\n",
      " 9   Kamera Çözünürlüğü                            514 non-null    object\n",
      " 10  Ekran Çözünürlüğü                             499 non-null    object\n",
      " 11  Görüntü Teknolojisi                           473 non-null    object\n",
      " 12  Ön Kamera Çözünürlüğü                         516 non-null    object\n",
      " 13  Ekran Boyut Aralığı                           731 non-null    object\n",
      " 14  Ekran Cinsi                                   731 non-null    object\n",
      " 15  Ekran Teknolojisi                             731 non-null    object\n",
      " 16  Ekran Boyutu Aralığı                          499 non-null    object\n",
      " 17  Dokunmatik Ekran                              731 non-null    object\n",
      " 18  Arka Kamera Sayısı                            731 non-null    object\n",
      " 19  Ana Kamera Flaş                               506 non-null    object\n",
      " 20  Ön Kamera Sayısı                              731 non-null    object\n",
      " 21  Ön Kamera Çözünürlük Aralığı                  731 non-null    object\n",
      " 22  Ön Kamera Flaş                                460 non-null    object\n",
      " 23  İşletim Sistemi                               731 non-null    object\n",
      " 24  Renk                                          731 non-null    object\n",
      " 25  RAM Kapasitesi                                731 non-null    object\n",
      " 26  CPU Aralık                                    495 non-null    object\n",
      " 27  Kulaklık Girişi                               731 non-null    object\n",
      " 28  Batarya Kapasitesi Aralığı                    731 non-null    object\n",
      " 29  Şarj Girişi                                   730 non-null    object\n",
      " 30  Şarj Hızı                                     354 non-null    object\n",
      " 31  Kablosuz Şarj                                 516 non-null    object\n",
      " 32  Mobil Bağlantı Hızı                           729 non-null    object\n",
      " 33  Bluetooth                                     531 non-null    object\n",
      " 34  GPS                                           537 non-null    object\n",
      " 35  NFC                                           731 non-null    object\n",
      " 36  Radio                                         483 non-null    object\n",
      " 37  Parmak İzi Okuyucu                            525 non-null    object\n",
      " 38  Yüz Tanıma                                    517 non-null    object\n",
      " 39  Görüntülü Konuşma                             509 non-null    object\n",
      " 40  Suya/Toza Dayanıklılık                        729 non-null    object\n",
      " 41  Çift Hat                                      731 non-null    object\n",
      " 42  Ekran Yenileme Hızı                           511 non-null    object\n",
      " 43  Video Kayıt Çözünürlüğü                       496 non-null    object\n",
      " 44  Ana Kamera Çözünürlül Aralığı                 729 non-null    object\n",
      " 45  Arttırılabilir Hafıza (Hafıza Kartı Desteği)  622 non-null    object\n",
      " 46  Product Name                                  731 non-null    object\n",
      " 47  Cep Telefonu Modeli                           178 non-null    object\n",
      "dtypes: int64(1), object(47)\n",
      "memory usage: 274.2+ KB\n"
     ]
    }
   ],
   "source": [
    "df.info()"
   ]
  },
  {
   "cell_type": "markdown",
   "metadata": {},
   "source": [
    "***Step 1: Dropping unnecessary columns from the dataframe.***"
   ]
  },
  {
   "cell_type": "code",
   "execution_count": 261,
   "metadata": {
    "id": "0yZctRzwVLUH"
   },
   "outputs": [],
   "source": [
    "columns_for_drop = ['Unnamed: 0','İşlemci Markası','Bağlantılar','Ekran Boyutu','Dokunmatik Ekran','Ana Kamera Flaş','İşletim Sistemi','Cep Telefonu Modeli','Ön Kamera Sayısı','Kamera Çözünürlüğü',\n",
    "                    'Kulaklık Girişi','Bluetooth','GPS','Radio','Görüntülü Konuşma','Suya/Toza Dayanıklılık','Arttırılabilir Hafıza (Hafıza Kartı Desteği)','Video Kayıt Çözünürlüğü',\n",
    "                    'Ekran Yenileme Hızı','Garanti Tipi','Mobil Bağlantı Hızı','Pil Gücü (mAh)']\n",
    "drop_columns(df, columns_for_drop)"
   ]
  },
  {
   "cell_type": "markdown",
   "metadata": {},
   "source": [
    "***Step 2: Sum all nulls and check for unique values per column.***"
   ]
  },
  {
   "cell_type": "code",
   "execution_count": 262,
   "metadata": {},
   "outputs": [
    {
     "name": "stdout",
     "output_type": "stream",
     "text": [
      "Dahili Hafıza: 5\n",
      "Ekran Çözünürlüğü: 232\n",
      "Görüntü Teknolojisi: 258\n",
      "Ön Kamera Çözünürlüğü: 215\n",
      "Ekran Boyutu Aralığı: 232\n",
      "Ön Kamera Flaş: 271\n",
      "CPU Aralık: 236\n",
      "Şarj Girişi: 1\n",
      "Şarj Hızı: 377\n",
      "Kablosuz Şarj: 215\n",
      "Parmak İzi Okuyucu: 206\n",
      "Yüz Tanıma: 214\n",
      "Ana Kamera Çözünürlül Aralığı: 2\n",
      "Sum of null values: 2464\n"
     ]
    }
   ],
   "source": [
    "nulls_with_columns(df)"
   ]
  },
  {
   "cell_type": "code",
   "execution_count": 263,
   "metadata": {},
   "outputs": [
    {
     "name": "stdout",
     "output_type": "stream",
     "text": [
      "Dahili Hafıza\n",
      "['128 GB' '256 GB' '64 GB' '32 GB' nan '16 GB' '8 GB' '4 GB' 'Yok'\n",
      " '512 GB']\n",
      "Ekran Çözünürlüğü\n",
      "['FHD+' nan 'HD+' 'HD' 'QHD+' 'QHD' 'UHD+']\n",
      "Ekran Cinsi\n",
      "['Super AMOLED' 'AMOLED' 'LCD' 'PLS' 'Diğer' 'OLED']\n",
      "Ekran Boyutu Aralığı\n",
      "['6\"-6.5\"' nan '6.5\" - 7\"' '5\"-5.5\"' '5.5\"-6\"' '4.5\"-5\"' '7\" üstü']\n",
      "Arka Kamera Sayısı\n",
      "['5' '4' '1' '3' 'Yok' '2' '10+']\n",
      "Ön Kamera Çözünürlük Aralığı\n",
      "['20 - 40 MP' '10 - 15 MP' '5 - 10 MP' '15 - 20 MP' '60 - 80 MP'\n",
      " '5 MP ve altı' 'Yok' '40 - 60 MP']\n",
      "Ön Kamera Flaş\n",
      "['Var' nan 'Yok']\n",
      "Renk\n",
      "['Siyah' 'Gri' 'Mavi' 'Yeşil' 'Beyaz' 'Mor' 'Metalik' 'Gümüş' 'Sarı'\n",
      " 'Pembe' 'Altın' 'Lacivert' 'Çok Renkli' 'Turkuaz' 'Kırmızı' 'Bej'\n",
      " 'Turuncu' 'Kahverengi' 'Haki']\n",
      "RAM Kapasitesi\n",
      "['8 GB' '6 GB' '4 GB' '3 GB' '2 GB' '0-1GB' '16 MB RAM' '1 GB' 'Yok'\n",
      " '12 GB' '1,5 GB RAM' '32 GB' '512 MB RAM']\n",
      "Batarya Kapasitesi Aralığı\n",
      "['4000-4500 mAh' '5000-6000 mAh' '4500-5000 mAh' '3500-4000 mAh'\n",
      " '1000-2000 mAh' '800-1000 mAh' '3000-3500 mAh' '2000-3000 mAh'\n",
      " '6000-7000 mAh']\n",
      "Şarj Girişi\n",
      "['USB Type-C' 'Diğer' 'Micro-USB' 'Lightning' nan]\n",
      "Kablosuz Şarj\n",
      "['Yok' nan 'Var']\n",
      "NFC\n",
      "['Yok' 'Var']\n",
      "Parmak İzi Okuyucu\n",
      "['Var' nan 'Yok']\n",
      "Yüz Tanıma\n",
      "['Var' nan 'Yok']\n",
      "Çift Hat\n",
      "['Var' 'Yok']\n",
      "Ana Kamera Çözünürlül Aralığı\n",
      "['60 - 80 MP' '40 - 60 MP' '10 - 15 MP' '15 - 20 MP' '5 - 10 MP'\n",
      " '20 - 40 MP' '100 -120 MP' '5 MP ve altı' '80 - 100 MP' nan\n",
      " '120 MP ve üstü']\n"
     ]
    }
   ],
   "source": [
    "unique_values_for_columns(df)"
   ]
  },
  {
   "cell_type": "markdown",
   "metadata": {},
   "source": [
    "***Step 3: Replacing binary options with 0's and 1's.***"
   ]
  },
  {
   "cell_type": "code",
   "execution_count": 264,
   "metadata": {
    "id": "OW1kc_uPafMX"
   },
   "outputs": [],
   "source": [
    "zero_or_one(df,'Yüz Tanıma','Var')\n",
    "zero_or_one(df,'Çift Hat','Var')\n",
    "zero_or_one(df,'NFC','Var')\n",
    "zero_or_one(df,'Ön Kamera Flaş','Var')\n",
    "zero_or_one(df,'Kablosuz Şarj','Var')\n",
    "zero_or_one(df,'Parmak İzi Okuyucu','Var')"
   ]
  },
  {
   "cell_type": "markdown",
   "metadata": {},
   "source": [
    "***Step 4: Combining similar columns.***"
   ]
  },
  {
   "cell_type": "code",
   "execution_count": 265,
   "metadata": {
    "id": "mH4yxhqEds1h"
   },
   "outputs": [],
   "source": [
    "mix_same_columns(df,'Ekran Çözünürlüğü','Ekran Teknolojisi')\n",
    "mix_same_columns(df,'Ekran Boyutu Aralığı', 'Ekran Boyut Aralığı')\n",
    "mix_same_columns(df,'Ekran Cinsi','Görüntü Teknolojisi')\n",
    "mix_same_columns(df,'Ön Kamera Çözünürlük Aralığı','Ön Kamera Çözünürlüğü')"
   ]
  },
  {
   "cell_type": "markdown",
   "metadata": {},
   "source": [
    "***Step 5: Deleting columns with a high value of null and columns with a high number of meaningless data  from our dataframe even though they are important.***"
   ]
  },
  {
   "cell_type": "code",
   "execution_count": 266,
   "metadata": {
    "scrolled": true
   },
   "outputs": [
    {
     "name": "stdout",
     "output_type": "stream",
     "text": [
      "Dahili Hafıza: 5\n",
      "CPU Aralık: 236\n",
      "Şarj Girişi: 1\n",
      "Şarj Hızı: 377\n",
      "Ana Kamera Çözünürlül Aralığı: 2\n",
      "Sum of null values: 621\n"
     ]
    }
   ],
   "source": [
    "nulls_with_columns(df)"
   ]
  },
  {
   "cell_type": "code",
   "execution_count": 267,
   "metadata": {},
   "outputs": [
    {
     "name": "stdout",
     "output_type": "stream",
     "text": [
      "Dahili Hafıza: 16 rows and meaningless value is 'Yok'.\n",
      "Ekran Çözünürlüğü: 80 rows and meaningless value is 'Diğer'.\n",
      "Ekran Cinsi: 97 rows and meaningless value is 'Diğer'.\n",
      "Arka Kamera Sayısı: 17 rows and meaningless value is 'Yok'.\n",
      "Ön Kamera Çözünürlük Aralığı: 14 rows and meaningless value is 'Yok'.\n",
      "RAM Kapasitesi: 9 rows and meaningless value is 'Yok'.\n",
      "Şarj Girişi: 51 rows and meaningless value is 'Diğer'.\n"
     ]
    }
   ],
   "source": [
    "columns_with_meaningless_value(df)"
   ]
  },
  {
   "cell_type": "code",
   "execution_count": 268,
   "metadata": {
    "id": "5RuL5o_Ni2Xt"
   },
   "outputs": [],
   "source": [
    "few_columns = ['CPU Aralık','Şarj Hızı','Ekran Çözünürlüğü','Ekran Cinsi','Şarj Girişi']\n",
    "drop_columns(df, few_columns)"
   ]
  },
  {
   "cell_type": "markdown",
   "metadata": {},
   "source": [
    "***Step 6: Manually entering data in columns with less Null values.***"
   ]
  },
  {
   "cell_type": "code",
   "execution_count": 269,
   "metadata": {},
   "outputs": [
    {
     "name": "stdout",
     "output_type": "stream",
     "text": [
      "Dahili Hafıza: 5\n",
      "Ana Kamera Çözünürlül Aralığı: 2\n",
      "Sum of null values: 7\n"
     ]
    }
   ],
   "source": [
    "nulls_with_columns(df)"
   ]
  },
  {
   "cell_type": "code",
   "execution_count": 270,
   "metadata": {
    "colab": {
     "base_uri": "https://localhost:8080/"
    },
    "id": "ZV7cY5mtwHPF",
    "outputId": "6fd92af3-b5e3-4926-833b-34c595e34944"
   },
   "outputs": [
    {
     "data": {
      "text/plain": [
       "42     11T 8GB + 256GB Gri Cep Telefonu (Xiaomi Türki...\n",
       "180    P40 Lite 128GB Yeşil Cep Telefonu (Huawei Türk...\n",
       "296    P40 Lite 128GB Siyah Cep Telefonu (Huawei Türk...\n",
       "342    11 Lite 5G NE 8GB + 128GB Beyaz Cep Telefonu (...\n",
       "696          K10 16 Gb Siyah Cep Telefonu TYC00262159620\n",
       "Name: Product Name, dtype: object"
      ]
     },
     "execution_count": 270,
     "metadata": {},
     "output_type": "execute_result"
    }
   ],
   "source": [
    "df[df['Dahili Hafıza'].isnull()]['Product Name']"
   ]
  },
  {
   "cell_type": "code",
   "execution_count": 271,
   "metadata": {
    "id": "ojflDrWnttVT"
   },
   "outputs": [],
   "source": [
    "df['Dahili Hafıza'].iloc[42] = '256 GB'\n",
    "df['Dahili Hafıza'].iloc[180] = '128 GB'\n",
    "df['Dahili Hafıza'].iloc[296] = '128 GB'\n",
    "df['Dahili Hafıza'].iloc[342] = '128 GB'\n",
    "df['Dahili Hafıza'].iloc[696] = '16 GB'"
   ]
  },
  {
   "cell_type": "code",
   "execution_count": 272,
   "metadata": {
    "colab": {
     "base_uri": "https://localhost:8080/"
    },
    "id": "8t0EmLugdj6r",
    "outputId": "b8ff2c0c-2cd7-4950-cb5d-2b4021e3586d"
   },
   "outputs": [
    {
     "data": {
      "text/plain": [
       "79     Galaxy S20 FE (Çift SIM) 128GB Cloud Lavender ...\n",
       "722                                       Y6 P 2020 0035\n",
       "Name: Product Name, dtype: object"
      ]
     },
     "execution_count": 272,
     "metadata": {},
     "output_type": "execute_result"
    }
   ],
   "source": [
    "df[df['Ana Kamera Çözünürlül Aralığı'].isnull()]['Product Name']"
   ]
  },
  {
   "cell_type": "code",
   "execution_count": 273,
   "metadata": {
    "id": "L1RzUT6Re3Jr"
   },
   "outputs": [],
   "source": [
    "df['Ana Kamera Çözünürlül Aralığı'].iloc[79] = '10 - 15 MP'     \n",
    "df['Ana Kamera Çözünürlül Aralığı'].iloc[722] = '10 - 15 MP'     "
   ]
  },
  {
   "cell_type": "code",
   "execution_count": 274,
   "metadata": {},
   "outputs": [
    {
     "name": "stdout",
     "output_type": "stream",
     "text": [
      "There is no column with a null value.\n"
     ]
    }
   ],
   "source": [
    "nulls_with_columns(df)"
   ]
  },
  {
   "cell_type": "markdown",
   "metadata": {},
   "source": [
    "***Step 7: Making meaningless value in columns meaningful.***"
   ]
  },
  {
   "cell_type": "code",
   "execution_count": 275,
   "metadata": {},
   "outputs": [
    {
     "name": "stdout",
     "output_type": "stream",
     "text": [
      "Dahili Hafıza: 16 rows and meaningless value is 'Yok'.\n",
      "Arka Kamera Sayısı: 17 rows and meaningless value is 'Yok'.\n",
      "Ön Kamera Çözünürlük Aralığı: 14 rows and meaningless value is 'Yok'.\n",
      "RAM Kapasitesi: 9 rows and meaningless value is 'Yok'.\n"
     ]
    }
   ],
   "source": [
    "columns_with_meaningless_value(df)"
   ]
  },
  {
   "cell_type": "code",
   "execution_count": 276,
   "metadata": {},
   "outputs": [],
   "source": [
    "dahili_hafiza_list = ['16 GB','16 GB','256 GB','32 GB','64 GB','16 GB','16 GB','64 GB','64 GB','32 GB','64 GB','16 GB','16 GB','16 GB','64 GB','16 GB' ]\n",
    "manually_entering_meaningless_value(df,'Dahili Hafıza','Yok',dahili_hafiza_list)"
   ]
  },
  {
   "cell_type": "code",
   "execution_count": null,
   "metadata": {},
   "outputs": [],
   "source": [
    "arka_kamera_list = []\n",
    "manually_entering_meaningless_value(df,'Arka Kamera Sayısı','Yok',arka_kamera_list)"
   ]
  },
  {
   "cell_type": "code",
   "execution_count": null,
   "metadata": {},
   "outputs": [],
   "source": [
    "on_kamera_list = []\n",
    "manually_entering_meaningless_value(df,'Ön Kamera Çözünürlük Aralığı','Yok',on_kamera_list)"
   ]
  },
  {
   "cell_type": "code",
   "execution_count": null,
   "metadata": {},
   "outputs": [],
   "source": [
    "ram_list = []\n",
    "manually_entering_meaningless_value(df,'RAM Kapasitesi','Yok',ram_list)"
   ]
  }
 ],
 "metadata": {
  "colab": {
   "name": "Untitled0.ipynb",
   "provenance": []
  },
  "kernelspec": {
   "display_name": "Python 3 (ipykernel)",
   "language": "python",
   "name": "python3"
  },
  "language_info": {
   "codemirror_mode": {
    "name": "ipython",
    "version": 3
   },
   "file_extension": ".py",
   "mimetype": "text/x-python",
   "name": "python",
   "nbconvert_exporter": "python",
   "pygments_lexer": "ipython3",
   "version": "3.9.7"
  }
 },
 "nbformat": 4,
 "nbformat_minor": 1
}
